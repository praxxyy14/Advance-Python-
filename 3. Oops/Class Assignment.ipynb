{
 "cells": [
  {
   "cell_type": "code",
   "execution_count": 1,
   "metadata": {},
   "outputs": [
    {
     "name": "stdout",
     "output_type": "stream",
     "text": [
      "The sides do not form a valid triangle.\n"
     ]
    }
   ],
   "source": [
    "class Triangle:\n",
    "    def __init__(self, side1, side2, side3):\n",
    "        \"\"\"Initialize the triangle with three sides.\"\"\"\n",
    "        self.side1 = side1\n",
    "        self.side2 = side2\n",
    "        self.side3 = side3\n",
    "\n",
    "    def is_valid_triangle(self):\n",
    "        \"\"\"\n",
    "        Check if the three sides form a valid triangle using the triangle inequality theorem:\n",
    "        - The sum of any two sides must be greater than the third side.\n",
    "        \"\"\"\n",
    "        return (\n",
    "            self.side1 + self.side2 > self.side3 and\n",
    "            self.side1 + self.side3 > self.side2 and\n",
    "            self.side2 + self.side3 > self.side1\n",
    "        )\n",
    "\n",
    "# Example usage:\n",
    "side1 = float(input(\"Enter side 1: \"))\n",
    "side2 = float(input(\"Enter side 2: \"))\n",
    "side3 = float(input(\"Enter side 3: \"))\n",
    "\n",
    "triangle = Triangle(side1, side2, side3)\n",
    "\n",
    "if triangle.is_valid_triangle():\n",
    "    print(\"The sides form a valid triangle.\")\n",
    "else:\n",
    "    print(\"The sides do not form a valid triangle.\")\n"
   ]
  },
  {
   "cell_type": "code",
   "execution_count": 2,
   "metadata": {},
   "outputs": [
    {
     "name": "stdout",
     "output_type": "stream",
     "text": [
      "The sides form a valid triangle.\n",
      "The perimeter of the triangle is: 55.0\n"
     ]
    }
   ],
   "source": [
    "class Triangle:\n",
    "    def __init__(self, side1, side2, side3):\n",
    "        \"\"\"Initialize the triangle with three sides.\"\"\"\n",
    "        self.side1 = side1\n",
    "        self.side2 = side2\n",
    "        self.side3 = side3\n",
    "\n",
    "    def is_valid_triangle(self):\n",
    "        \"\"\"\n",
    "        Check if the three sides form a valid triangle using the triangle inequality theorem:\n",
    "        - The sum of any two sides must be greater than the third side.\n",
    "        \"\"\"\n",
    "        return (\n",
    "            self.side1 + self.side2 > self.side3 and\n",
    "            self.side1 + self.side3 > self.side2 and\n",
    "            self.side2 + self.side3 > self.side1\n",
    "        )\n",
    "\n",
    "    def perimeter(self):\n",
    "        \"\"\"\n",
    "        Calculate the perimeter of the triangle.\n",
    "        Returns the perimeter if the triangle is valid; otherwise, returns None.\n",
    "        \"\"\"\n",
    "        if self.is_valid_triangle():\n",
    "            return self.side1 + self.side2 + self.side3\n",
    "        else:\n",
    "            return None\n",
    "\n",
    "# Example usage:\n",
    "side1 = float(input(\"Enter side 1: \"))\n",
    "side2 = float(input(\"Enter side 2: \"))\n",
    "side3 = float(input(\"Enter side 3: \"))\n",
    "\n",
    "triangle = Triangle(side1, side2, side3)\n",
    "\n",
    "if triangle.is_valid_triangle():\n",
    "    print(\"The sides form a valid triangle.\")\n",
    "    print(f\"The perimeter of the triangle is: {triangle.perimeter()}\")\n",
    "else:\n",
    "    print(\"The sides do not form a valid triangle.\")\n"
   ]
  },
  {
   "cell_type": "code",
   "execution_count": 3,
   "metadata": {},
   "outputs": [
    {
     "name": "stdout",
     "output_type": "stream",
     "text": [
      "The sides form a valid triangle.\n",
      "The perimeter of the triangle is: 12.0\n",
      "The area of the triangle is: 6.00\n"
     ]
    }
   ],
   "source": [
    "import math\n",
    "\n",
    "class Triangle:\n",
    "    def __init__(self, side1, side2, side3):\n",
    "        \"\"\"Initialize the triangle with three sides.\"\"\"\n",
    "        self.side1 = side1\n",
    "        self.side2 = side2\n",
    "        self.side3 = side3\n",
    "\n",
    "    def is_valid_triangle(self):\n",
    "        \"\"\"\n",
    "        Check if the three sides form a valid triangle using the triangle inequality theorem:\n",
    "        - The sum of any two sides must be greater than the third side.\n",
    "        \"\"\"\n",
    "        return (\n",
    "            self.side1 + self.side2 > self.side3 and\n",
    "            self.side1 + self.side3 > self.side2 and\n",
    "            self.side2 + self.side3 > self.side1\n",
    "        )\n",
    "\n",
    "    def perimeter(self):\n",
    "        \"\"\"\n",
    "        Calculate the perimeter of the triangle.\n",
    "        Returns the perimeter if the triangle is valid; otherwise, returns None.\n",
    "        \"\"\"\n",
    "        if self.is_valid_triangle():\n",
    "            return self.side1 + self.side2 + self.side3\n",
    "        else:\n",
    "            return None\n",
    "\n",
    "    def area(self):\n",
    "        \"\"\"\n",
    "        Calculate the area of the triangle using Heron's formula.\n",
    "        Returns the area if the triangle is valid; otherwise, returns None.\n",
    "        Heron's formula: Area = √(s * (s - a) * (s - b) * (s - c))\n",
    "        where s = (a + b + c) / 2\n",
    "        \"\"\"\n",
    "        if self.is_valid_triangle():\n",
    "            # Semi-perimeter (s)\n",
    "            s = self.perimeter() / 2\n",
    "            # Area calculation using Heron's formula\n",
    "            area = math.sqrt(s * (s - self.side1) * (s - self.side2) * (s - self.side3))\n",
    "            return area\n",
    "        else:\n",
    "            return None\n",
    "\n",
    "# Example usage:\n",
    "side1 = float(input(\"Enter side 1: \"))\n",
    "side2 = float(input(\"Enter side 2: \"))\n",
    "side3 = float(input(\"Enter side 3: \"))\n",
    "\n",
    "triangle = Triangle(side1, side2, side3)\n",
    "\n",
    "if triangle.is_valid_triangle():\n",
    "    print(\"The sides form a valid triangle.\")\n",
    "    print(f\"The perimeter of the triangle is: {triangle.perimeter()}\")\n",
    "    print(f\"The area of the triangle is: {triangle.area():.2f}\")\n",
    "else:\n",
    "    print(\"The sides do not form a valid triangle.\")\n"
   ]
  },
  {
   "cell_type": "code",
   "execution_count": null,
   "metadata": {},
   "outputs": [],
   "source": []
  }
 ],
 "metadata": {
  "kernelspec": {
   "display_name": "venv",
   "language": "python",
   "name": "python3"
  },
  "language_info": {
   "codemirror_mode": {
    "name": "ipython",
    "version": 3
   },
   "file_extension": ".py",
   "mimetype": "text/x-python",
   "name": "python",
   "nbconvert_exporter": "python",
   "pygments_lexer": "ipython3",
   "version": "3.13.1"
  }
 },
 "nbformat": 4,
 "nbformat_minor": 2
}
